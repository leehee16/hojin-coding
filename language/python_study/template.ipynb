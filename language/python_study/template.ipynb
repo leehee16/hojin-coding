{
 "cells": [
  {
   "cell_type": "code",
   "execution_count": null,
   "id": "a04ac020",
   "metadata": {},
   "outputs": [],
   "source": [
    "#task case\n",
    "test_cases = [\n",
    "    # (입력, 예상 결과, 설명)\n",
    "]"
   ]
  },
  {
   "cell_type": "code",
   "execution_count": null,
   "id": "fce9c739",
   "metadata": {},
   "outputs": [],
   "source": [
    "def run_tests():\n",
    "    print(\"테스트 실행 중...\\n\")\n",
    "    passed = 0\n",
    "    failed = 0\n",
    "    \n",
    "    for i, (input_str, expected, description) in enumerate(test_cases, 1):\n",
    "        try:\n",
    "            result = solution(input_str)\n",
    "            status = \"PASS\" if result == expected else \"FAIL\"\n",
    "            \n",
    "            if result == expected:\n",
    "                passed += 1\n",
    "                print(f\"테스트 {i:2d}: {status} - {description}\")\n",
    "            else:\n",
    "                failed += 1\n",
    "                print(f\"테스트 {i:2d}: {status} - {description}\")\n",
    "                print(f\"         입력: '{input_str}'\")\n",
    "                print(f\"         예상: {expected}, 실제: {result}\")\n",
    "                \n",
    "        except Exception as e:\n",
    "            failed += 1\n",
    "            print(f\"테스트 {i:2d}: ERROR - {description}\")\n",
    "            print(f\"         입력: '{input_str}'\")\n",
    "            print(f\"         오류: {e}\")\n",
    "    \n",
    "    print(f\"\\n결과: {passed}개 통과, {failed}개 실패\")\n",
    "    return failed == 0"
   ]
  },
  {
   "cell_type": "code",
   "execution_count": null,
   "id": "e52c5559",
   "metadata": {},
   "outputs": [],
   "source": [
    "def solution() :\n",
    "    return True"
   ]
  }
 ],
 "metadata": {
  "language_info": {
   "name": "python"
  }
 },
 "nbformat": 4,
 "nbformat_minor": 5
}
