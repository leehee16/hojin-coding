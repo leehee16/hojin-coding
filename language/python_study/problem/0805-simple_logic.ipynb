{
 "cells": [
  {
   "cell_type": "code",
   "execution_count": null,
   "id": "c522cbe4",
   "metadata": {},
   "outputs": [],
   "source": [
    "def solution(x1, x2, x3, x4):\n",
    "    return (x1 or x2) and (x3 or x4)"
   ]
  },
  {
   "cell_type": "markdown",
   "id": "5f0d6ea0",
   "metadata": {},
   "source": [
    "or -> 하나라도 참이면 참.\n",
    "and -> 둘다 참이여야 참. "
   ]
  }
 ],
 "metadata": {
  "language_info": {
   "name": "python"
  }
 },
 "nbformat": 4,
 "nbformat_minor": 5
}
