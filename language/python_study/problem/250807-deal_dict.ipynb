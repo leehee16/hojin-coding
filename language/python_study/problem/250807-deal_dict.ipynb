{
 "cells": [
  {
   "cell_type": "code",
   "execution_count": 1,
   "id": "f2e5e9cf-cf28-4161-a20f-6ac24e62debe",
   "metadata": {},
   "outputs": [],
   "source": [
    "# dict다루기\n",
    "\n",
    "from collections import defaultdict\n",
    "def solution(clothes):\n",
    "    clothes_dict = defaultdict(list)\n",
    "    for name, kind in clothes:\n",
    "        clothes_dict[kind].append(name)\n",
    "    count = [len(i)+1 for i in clothes_dict.values()]\n",
    "    product =1\n",
    "    for k in count :\n",
    "        product *= k\n",
    "    return product-1"
   ]
  },
  {
   "cell_type": "markdown",
   "id": "76df9ab7-fcae-4032-a038-2be985866605",
   "metadata": {},
   "source": [
    "값을 append할때는 defaultdict가 좋다. 키를 초기화하지 않아도 자동으로 초기화해준다.\n"
   ]
  },
  {
   "cell_type": "markdown",
   "id": "bbd571f9-0492-4b88-904e-6db899600601",
   "metadata": {},
   "source": [
    "genres|plays|return\n",
    "---|---|---\n",
    "[\"classic\", \"pop\", \"classic\", \"classic\", \"pop\"]|[500, 600, 150, 800, 2500]|[4, 1, 3, 0]\n",
    "\n",
    "\n",
    "###### 스트리밍 사이트에서 장르 별로 가장 많이 재생된 노래를 두 개씩 모아 베스트 앨범을 출시하려 합니다. 노래는 고유 번호로 구분하며, 노래를 수록하는 기준은 다음과 같습니다.\n",
    "\n",
    "1. 속한 노래가 많이 재생된 장르를 먼저 수록합니다.  \n",
    "2. 장르 내에서 많이 재생된 노래를 먼저 수록합니다.  \n",
    "3. 장르 내에서 재생 횟수가 같은 노래 중에서는 고유 번호가 낮은 노래를 먼저 수록합니다.  \n",
    "4. 노래의 장르를 나타내는 문자열 배열 genres와 노래별 재생 횟수를 나타내는 정수 배열 plays가 주어질 때, 베스트 앨범에 들어갈 노래의 고유 번호를 순서대로 return 하도록 solution 함수를 완성하세요."
   ]
  },
  {
   "cell_type": "code",
   "execution_count": 8,
   "id": "ca152de1-ed30-433c-86e3-55748db7e91e",
   "metadata": {},
   "outputs": [
    {
     "name": "stdout",
     "output_type": "stream",
     "text": [
      "[4, 1, 3, 0]\n"
     ]
    }
   ],
   "source": [
    "from collections import defaultdict\n",
    "def solution(genres, plays):\n",
    "    #index도 써야되는데\n",
    "    ## zip? enumerate?\n",
    "    list_dict = defaultdict(list)\n",
    "    for i in range(len(genres)):\n",
    "        list_dict[genres[i]].append((i,plays[i]))\n",
    "\n",
    "    genre_play_sum = {}\n",
    "    for genre, song_list in list_dict.items():\n",
    "        genre_play_sum[genre] = sum(play for _, play in song_list)\n",
    "        \n",
    "    sorted_genres = sorted(genre_play_sum,key = lambda g: genre_play_sum[g],reverse=True)\n",
    "\n",
    "    ans = []\n",
    "\n",
    "    for genre in sorted_genres :\n",
    "        sorted_songs = sorted(list_dict[genre],key = lambda x : (-x[1],x[0]))\n",
    "        ans.extend([idx for idx, _ in sorted_songs[:2]])\n",
    "\n",
    "    \n",
    "    return ans\n",
    "\n",
    "print(solution([\"classic\", \"pop\", \"classic\", \"classic\", \"pop\"],[500, 600, 150, 800, 2500]))"
   ]
  },
  {
   "cell_type": "code",
   "execution_count": null,
   "id": "32d97d67-c49f-4b1b-a06c-a4fee7ed4d5d",
   "metadata": {},
   "outputs": [],
   "source": []
  },
  {
   "cell_type": "code",
   "execution_count": null,
   "id": "be5ca432-ebab-470c-8f9a-48fae663d6f2",
   "metadata": {},
   "outputs": [],
   "source": []
  }
 ],
 "metadata": {
  "kernelspec": {
   "display_name": "Python 3 (ipykernel)",
   "language": "python",
   "name": "python3"
  },
  "language_info": {
   "codemirror_mode": {
    "name": "ipython",
    "version": 3
   },
   "file_extension": ".py",
   "mimetype": "text/x-python",
   "name": "python",
   "nbconvert_exporter": "python",
   "pygments_lexer": "ipython3",
   "version": "3.13.5"
  }
 },
 "nbformat": 4,
 "nbformat_minor": 5
}
