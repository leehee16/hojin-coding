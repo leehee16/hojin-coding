{
 "cells": [
  {
   "cell_type": "code",
   "execution_count": null,
   "id": "0fb9a61c",
   "metadata": {},
   "outputs": [],
   "source": [
    "#1. 1차시도\n",
    "def sort(phone_book):\n",
    "    phone_book.sort(key=lambda x:x*20 in phone_book)\n",
    "    for i in range(len(phone_book)-1) :\n",
    "        if phone_book[i+1].startswith(phone_book[i]) :\n",
    "            return False\n",
    "        else : return sort(phone_book[i+1])\n",
    "    return True\n",
    "\n",
    "#일단.. 어떻게 정렬하느냐, 어떻게 접두사가 들었는지 확인할거냐, 정렬할때 곱해준다면 어떻게 원래값으로 돌릴것이냐.\n",
    "#재귀는 언제사용하는것인가?"
   ]
  },
  {
   "cell_type": "markdown",
   "id": "1d540655",
   "metadata": {},
   "source": [
    "1. phone_book을 사전순 정렬한다\n",
    "2. 인접한 두 번호를 순차적으로 비교하며\n",
    "   → 뒤 번호가 앞 번호로 시작하면 False\n",
    "3. 끝까지 이상 없으면 True"
   ]
  },
  {
   "cell_type": "code",
   "execution_count": null,
   "id": "2f753d0c",
   "metadata": {},
   "outputs": [],
   "source": [
    "# index 범가 문제가 됐다.\n",
    "# 효율성 테스트는 통과 못함. 왜냐면 n^2 + n + log n임..\n",
    "\n",
    "def sort(phone_book:list) -> bool :\n",
    "    phone_book.sort()\n",
    "    for i in range(len(phone_book)-1) :\n",
    "        for j in range(len(phone_book)) :\n",
    "            if phone_book[j].startswith(phone_book[i]) :\n",
    "                return False\n",
    "    return True"
   ]
  },
  {
   "cell_type": "code",
   "execution_count": null,
   "id": "2cfcd045",
   "metadata": {},
   "outputs": [],
   "source": [
    "# 이경우에는 정렬했으니, 그냥 앞뒤로만 비교하면된다.\n",
    "def sort(phone_book:list) -> bool :\n",
    "    phone_book.sort()\n",
    "    for i in range(len(phone_book)-1) :\n",
    "        if phone_book[i+1].startswith(phone_book[i]) :\n",
    "            return False\n",
    "    return True"
   ]
  },
  {
   "cell_type": "code",
   "execution_count": null,
   "id": "c47b090d",
   "metadata": {},
   "outputs": [],
   "source": [
    "# 해시\n",
    "def hash(phone_book):\n",
    "    trie = {}\n",
    "    for number in phone_book :\n",
    "        node = trie\n",
    "        for i, digit in enumerate(number) :\n",
    "            if '__end__' in node :\n",
    "                return False\n",
    "            if digit not in node :\n",
    "                node[digit] = {}\n",
    "            node = node[digit]\n",
    "        if node :\n",
    "            return False\n",
    "        node['__end__'] = True\n",
    "    return True        "
   ]
  }
 ],
 "metadata": {
  "language_info": {
   "name": "python"
  }
 },
 "nbformat": 4,
 "nbformat_minor": 5
}
