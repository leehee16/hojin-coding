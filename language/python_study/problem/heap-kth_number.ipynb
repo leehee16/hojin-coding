{
 "cells": [
  {
   "cell_type": "markdown",
   "id": "4392edbe",
   "metadata": {},
   "source": [
    "정수 리스트 arr가 있고, 정수 k가 주어질 때,\n",
    "리스트에서 k번째로 작은 수를 구하시오."
   ]
  },
  {
   "cell_type": "code",
   "execution_count": 14,
   "id": "d2a6260d",
   "metadata": {},
   "outputs": [],
   "source": [
    "def find_k(arr,k):\n",
    "    arr.sort()\n",
    "    return arr[k-1]"
   ]
  },
  {
   "cell_type": "code",
   "execution_count": 18,
   "id": "2868f823",
   "metadata": {},
   "outputs": [],
   "source": [
    "import heapq\n",
    "def find_k(arr,k):\n",
    "    return heapq.nsmallest(k, arr)[-1]\n"
   ]
  },
  {
   "cell_type": "code",
   "execution_count": 19,
   "id": "1bb693af",
   "metadata": {},
   "outputs": [
    {
     "name": "stdout",
     "output_type": "stream",
     "text": [
      "5\n",
      "CPU times: user 120 μs, sys: 55 μs, total: 175 μs\n",
      "Wall time: 179 μs\n"
     ]
    }
   ],
   "source": [
    "%%time\n",
    "arr = [1,5,6,7,2,123]\n",
    "k=3\n",
    "print(find_k(arr,k))"
   ]
  }
 ],
 "metadata": {
  "kernelspec": {
   "display_name": "study",
   "language": "python",
   "name": "python3"
  },
  "language_info": {
   "codemirror_mode": {
    "name": "ipython",
    "version": 3
   },
   "file_extension": ".py",
   "mimetype": "text/x-python",
   "name": "python",
   "nbconvert_exporter": "python",
   "pygments_lexer": "ipython3",
   "version": "3.11.13"
  }
 },
 "nbformat": 4,
 "nbformat_minor": 5
}
