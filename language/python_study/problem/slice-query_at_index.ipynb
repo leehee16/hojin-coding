{
 "cells": [
  {
   "cell_type": "markdown",
   "id": "95dd4f4e",
   "metadata": {},
   "source": [
    "0804"
   ]
  },
  {
   "cell_type": "markdown",
   "id": "9d3f38be",
   "metadata": {},
   "source": [
    "정수 배열 arr와 2차원 정수 배열 queries이 주어집니다. queries의 원소는 각각 하나의 query를 나타내며, [s, e, k] 꼴입니다.\n",
    "\n",
    "각 query마다 순서대로 s ≤ i ≤ e인 모든 i에 대해 i가 k의 배수이면 arr[i]에 1을 더합니다.\n",
    "\n",
    "위 규칙에 따라 queries를 처리한 이후의 arr를 return 하는 solution 함수를 완성해 주세요."
   ]
  },
  {
   "cell_type": "code",
   "execution_count": 4,
   "id": "485cc49e",
   "metadata": {},
   "outputs": [],
   "source": [
    "# 시도 1 : enumerate를 굳이 쓰지 않아도 된다.\n",
    "# 성능을 개선할 여지가 있다.\n",
    "# 여기서 시간 복잡도를 어떻게 계산하지\n",
    "def solution1(arr, queries):\n",
    "    for a in queries :\n",
    "        s,e,k = a\n",
    "        for i,_ in enumerate(arr) :\n",
    "            if s <= i <= e and i%k == 0 :\n",
    "                arr[i] += 1\n",
    "    return arr"
   ]
  },
  {
   "cell_type": "code",
   "execution_count": 5,
   "id": "b447ed98",
   "metadata": {},
   "outputs": [],
   "source": [
    "def solution2(arr, queries):\n",
    "    for s,e,k in queries:\n",
    "        for i in range(s,e+1):\n",
    "            if i%k == 0:\n",
    "                arr[i] +=1\n",
    "    return arr"
   ]
  },
  {
   "cell_type": "code",
   "execution_count": 6,
   "id": "5c34fd28",
   "metadata": {},
   "outputs": [
    {
     "name": "stdout",
     "output_type": "stream",
     "text": [
      "[4, 3, 7, 8, 4]\n"
     ]
    }
   ],
   "source": [
    "print(solution1([1,2,5,6,3],[[0, 4, 1],[0, 3, 2],[0, 3, 3]]))"
   ]
  }
 ],
 "metadata": {
  "kernelspec": {
   "display_name": "study",
   "language": "python",
   "name": "python3"
  },
  "language_info": {
   "codemirror_mode": {
    "name": "ipython",
    "version": 3
   },
   "file_extension": ".py",
   "mimetype": "text/x-python",
   "name": "python",
   "nbconvert_exporter": "python",
   "pygments_lexer": "ipython3",
   "version": "3.11.13"
  }
 },
 "nbformat": 4,
 "nbformat_minor": 5
}
