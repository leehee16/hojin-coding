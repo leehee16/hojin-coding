{
 "cells": [
  {
   "cell_type": "markdown",
   "id": "5e45d083",
   "metadata": {},
   "source": [
    "숫자들이 하나씩 주어질 때, 지금까지 입력된 숫자들의 **중간값(median)** 을 구하는 프로그램을 작성하시오.\n",
    "중간값이란 정렬된 리스트에서 가운데 값을 의미하며, 짝수 개일 경우에는 작은 쪽 기준으로 한다."
   ]
  },
  {
   "cell_type": "code",
   "execution_count": 1,
   "id": "52023b21",
   "metadata": {},
   "outputs": [],
   "source": [
    "# input\n",
    "nums = [5, 15, 1, 3]"
   ]
  },
  {
   "cell_type": "code",
   "execution_count": null,
   "id": "e344ba0e",
   "metadata": {},
   "outputs": [],
   "source": [
    "#의사코드\n",
    "## 입력단계 카운트, 하나씩 넣기\n",
    "## 하나씩 넣을 통.\n",
    "## 하나일 경우, 그 값을 반환\n",
    "## 두개일 경우, 중앙값 반환\n",
    "import heapq\n",
    "\n",
    "def out_median(nums):\n",
    "    heapq.heapify(nums)\n",
    "    \n"
   ]
  }
 ],
 "metadata": {
  "kernelspec": {
   "display_name": "study",
   "language": "python",
   "name": "python3"
  },
  "language_info": {
   "codemirror_mode": {
    "name": "ipython",
    "version": 3
   },
   "file_extension": ".py",
   "mimetype": "text/x-python",
   "name": "python",
   "nbconvert_exporter": "python",
   "pygments_lexer": "ipython3",
   "version": "3.11.13"
  }
 },
 "nbformat": 4,
 "nbformat_minor": 5
}
