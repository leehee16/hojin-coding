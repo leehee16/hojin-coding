{
 "cells": [
  {
   "cell_type": "code",
   "execution_count": 1,
   "id": "5092189c",
   "metadata": {},
   "outputs": [],
   "source": [
    "def solution2(arr):\n",
    "    stk =[]\n",
    "    for i in range(len(arr)):\n",
    "        if not stk :\n",
    "            stk.append(arr[i])\n",
    "        elif stk[-1]<arr[i] :\n",
    "            stk.append(arr[i])\n",
    "        else :\n",
    "            stk.pop()\n",
    "    return stk"
   ]
  },
  {
   "cell_type": "code",
   "execution_count": 2,
   "id": "17b1445e",
   "metadata": {},
   "outputs": [],
   "source": [
    "def solution(arr):\n",
    "    stk = []\n",
    "    i = 0\n",
    "    while i < len(arr):\n",
    "        if not stk:\n",
    "            stk.append(arr[i])\n",
    "            i += 1\n",
    "        elif stk[-1] < arr[i]:\n",
    "            stk.append(arr[i])\n",
    "            i += 1\n",
    "        else:\n",
    "            stk.pop()\n",
    "    return stk"
   ]
  }
 ],
 "metadata": {
  "kernelspec": {
   "display_name": "study",
   "language": "python",
   "name": "python3"
  },
  "language_info": {
   "codemirror_mode": {
    "name": "ipython",
    "version": 3
   },
   "file_extension": ".py",
   "mimetype": "text/x-python",
   "name": "python",
   "nbconvert_exporter": "python",
   "pygments_lexer": "ipython3",
   "version": "3.11.13"
  }
 },
 "nbformat": 4,
 "nbformat_minor": 5
}
