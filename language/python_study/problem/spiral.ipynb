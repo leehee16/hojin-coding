{
 "cells": [
  {
   "cell_type": "code",
   "execution_count": null,
   "id": "2af18619",
   "metadata": {},
   "outputs": [],
   "source": [
    "#  답지\n",
    "# 완성된 나선형 배열 반환\n",
    "\n",
    "def solution(n):\n",
    "    metrix = [[0]*n for _ in range(n)]\n",
    "    vec = [(0,1), (1,0), (0,-1), (-1,0)]  # 오른→아래→왼→위\n",
    "    x, y = 0, 0\n",
    "    dir_idx = 0\n",
    "\n",
    "    for num in range(1, n**2 + 1):\n",
    "        metrix[x][y] = num\n",
    "        nx, ny = x + vec[dir_idx][0], y + vec[dir_idx][1]\n",
    "\n",
    "        if not (0 <= nx < n and 0 <= ny < n) or metrix[nx][ny] != 0:\n",
    "            dir_idx = (dir_idx + 1) % 4\n",
    "            nx, ny = x + vec[dir_idx][0], y + vec[dir_idx][1]\n",
    "        \n",
    "        x, y = nx, ny\n",
    "    \n",
    "    return metrix"
   ]
  },
  {
   "cell_type": "code",
   "execution_count": null,
   "id": "472878df",
   "metadata": {},
   "outputs": [],
   "source": [
    "def solution1(n):\n",
    "# n x n 크기의 2차원 배열을 0으로 초기화\n",
    "    metrix = [[0]*n for _ in range(n)] #mutable vs immutable\n",
    "# 시계방향 이동을 위한 방향 벡터: 오른쪽, 아래, 왼쪽, 위\n",
    "    vec = [(1,0),(0,-1),(-1,0),(0,1)]\n",
    "# 시작 위치 (맨 왼쪽 위)\n",
    "    state = (0,0) #이거 까지 초기화하는건 생각도 못했네\n",
    "# 현재 이동 방향 인덱스 (0: 오른쪽부터 시작)\n",
    "    cur_vec = vec[0%n]\n",
    "# 1부터 n^2까지 숫자를 하나씩 채우기 시작\n",
    "    nums = list(range(1,n**2+1))\n",
    "# 현재 위치에 숫자 채워 넣기\n",
    "    metrix[state[0]][state[1]] = nums[0]\n",
    "# 다음 이동할 위치 미리 계산\n",
    "    state += cur_vec\n",
    "    \n",
    "# 다음 위치가 범위를 벗어나거나 이미 채워졌으면\n",
    "    if state[0] >n or state[1]>n :\n",
    "    # → 방향을 시계방향으로 바꿔야 함\n",
    "        state -= cur_vec\n",
    "        cur_vec = vec[1%n]\n",
    "    # → 바뀐 방향에 맞춰 새로운 위치 다시 계산\n",
    "        state += cur_vec\n",
    "# 다음 위치로 이동"
   ]
  },
  {
   "cell_type": "code",
   "execution_count": null,
   "id": "a7eb5d51",
   "metadata": {},
   "outputs": [],
   "source": [
    "def spiral(n) :\n",
    "    #배열 초기화 : 초기화는 왜 하는거지? #조건식에 써먹을 수 있음. 비었는지 안비었는지. 혹은 저장하기 위해\n",
    "    metrix = [[0]*n for _ in range(n)]\n",
    "    vec_list = [[1,0], [0,-1], [-1,0], [0,1]] #배열 순서가 다름. [row,col]순서로 metrix가 되어있어서 그렇게 맞춰야됨.\n",
    "    vec_idx = 0\n",
    "    vec = vec_list[vec_idx]\n",
    "    x,y = 0,0\n",
    "    \n",
    "    for i in range(1,n**2+1) :\n",
    "        metrix[y][x] = i\n",
    "        nx, ny = (x+vec[0]), (y+vec[1]) \n",
    "        if not nx > n and ny > n \n",
    "\n",
    "\n",
    "    "
   ]
  }
 ],
 "metadata": {
  "language_info": {
   "name": "python"
  }
 },
 "nbformat": 4,
 "nbformat_minor": 5
}
