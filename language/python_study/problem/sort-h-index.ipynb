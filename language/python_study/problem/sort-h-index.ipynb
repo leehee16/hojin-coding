{
 "cells": [
  {
   "cell_type": "code",
   "execution_count": null,
   "id": "9234df15",
   "metadata": {},
   "outputs": [],
   "source": [
    "def solution(citations):\n",
    "    citations.sort(reverse=True)\n",
    "    for index, ele in enumerate(citations) :\n",
    "        if index >= ele :\n",
    "            return index\n",
    "    return len(citations)\n",
    "        #6,5,3,1,0\n",
    "        #0,1,2,3,4"
   ]
  }
 ],
 "metadata": {
  "language_info": {
   "name": "python"
  }
 },
 "nbformat": 4,
 "nbformat_minor": 5
}
