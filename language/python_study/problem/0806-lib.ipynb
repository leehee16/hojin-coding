{
 "cells": [
  {
   "cell_type": "code",
   "execution_count": null,
   "id": "708c984c",
   "metadata": {},
   "outputs": [],
   "source": [
    "# 인덱싱\n",
    "## 문자열 인덱싱의 경우, 마지막꺼는 안들어간다.\n",
    "## 뒤집기에 경우, 먼저 끊어내고 [::-1]로 처리하는게 안전하다.\n",
    "## iter안에서 그냥 값을 꺼내는게 안전하다..\n",
    "def solution(my_string, queries):\n",
    "    for s, e in queries:\n",
    "        first = my_string[:s]\n",
    "        middle = my_string[s:e+1][::-1]\n",
    "        end = my_string[e+1:]\n",
    "        my_string = first+middle+end\n",
    "    return my_string"
   ]
  },
  {
   "cell_type": "markdown",
   "id": "d9756b42",
   "metadata": {},
   "source": [
    "선분 3개가 평행하게 놓여 있습니다. 세 선분의 시작과 끝 좌표가 [[start, end], [start, end], [start, end]] 형태로 들어있는 2차원 배열 lines가 매개변수로 주어질 때, 두 개 이상의 선분이 겹치는 부분의 길이를 return 하도록 solution 함수를 완성해보세요.\n",
    "\n",
    "lines가 [[0, 2], [-3, -1], [-2, 1]]일 때 그림으로 나타내면 다음과 같습니다.\n",
    "\n",
    "line_2.png\n",
    "\n",
    "선분이 두 개 이상 겹친 곳은 [-2, -1], [0, 1]로 길이 2만큼 겹쳐있습니다.\n",
    "\n",
    "제한사항\n",
    "lines의 길이 = 3\n",
    "lines의 원소의 길이 = 2\n",
    "모든 선분은 길이가 1 이상입니다.\n",
    "lines의 원소는 [a, b] 형태이며, a, b는 각각 선분의 양 끝점 입니다.\n",
    "-100 ≤ a < b ≤ 100\n",
    "입출력 예\n",
    "lines\tresult\n",
    "[[0, 1], [2, 5], [3, 9]]\t2\n",
    "[[-1, 1], [1, 3], [3, 9]]\t0\n",
    "[[0, 5], [3, 9], [1, 10]]\t8\n",
    "입출력 예 설명\n",
    "입출력 예 #1\n",
    "\n",
    "두 번째, 세 번째 선분 [2, 5], [3, 9]가 [3, 5] 구간에 겹쳐있으므로 2를 return 합니다.\n",
    "입출력 예 #2\n",
    "\n",
    "겹친 선분이 없으므로 0을 return 합니다.\n",
    "입출력 예 #3\n",
    "\n",
    "첫 번째와 두 번째 선분이 [3, 5] 구간에서 겹칩니다.\n",
    "첫 번째와 세 번째 선분 [1, 5] 구간에서 겹칩니다.\n",
    "두 번째와 세 번째 선분 [3, 9] 구간에서 겹칩니다.\n",
    "따라서 [1, 9] 구간에 두 개 이상의 선분이 겹쳐있으므로, 8을 return 합니다."
   ]
  },
  {
   "cell_type": "code",
   "execution_count": null,
   "id": "c2098c78",
   "metadata": {},
   "outputs": [],
   "source": [
    "from collections import defaultdict\n",
    "\n",
    "def solution(lines) :\n",
    "    count = defaultdict(int)\n",
    "    lines.sort(key = lambda x : x[0])\n",
    "    for i in lines :\n",
    "        length = i[1] - i[0]\n",
    "        for k in range(length) :\n",
    "            count[i[0] +k +0.5] += 1\n",
    "    return sum(1 for v in count.values() if v >=2)"
   ]
  },
  {
   "cell_type": "markdown",
   "id": "edb3ac89",
   "metadata": {},
   "source": [
    "좌표계 x,y 무지 헷갈림.\n"
   ]
  },
  {
   "cell_type": "code",
   "execution_count": null,
   "id": "ee9c6501",
   "metadata": {},
   "outputs": [],
   "source": [
    "def solution(board):\n",
    "    n = len(board)\n",
    "    danger_zone = [[0]*n for _ in range(n)]\n",
    "    direction = [(-1,-1),(-1,0),(-1,1),\n",
    "                 (0,-1),(0,0),(0,1),\n",
    "                 (1,-1),(1,0),(1,1)]\n",
    "    \n",
    "    for i in range(n):\n",
    "        for j in range(n):\n",
    "            if board[i][j] == 1:\n",
    "                for dx,dy in direction:\n",
    "                    nx, ny = i+dx, j+dy\n",
    "                    if 0<=nx<n and 0<=ny<n :\n",
    "                        danger_zone[nx][ny] = 1\n",
    "    safe_count = 0\n",
    "    for i in range(n) :\n",
    "        for j in range(n) :\n",
    "            if danger_zone[i][j] == 0 :\n",
    "                safe_count += 1\n",
    "    return safe_count"
   ]
  },
  {
   "cell_type": "markdown",
   "id": "5a653fa2",
   "metadata": {},
   "source": [
    "문자열에서 split하기"
   ]
  },
  {
   "cell_type": "code",
   "execution_count": null,
   "id": "41bc10da",
   "metadata": {},
   "outputs": [],
   "source": [
    "def solution(quiz):\n",
    "    result = []\n",
    "    for i in quiz:\n",
    "        tokens = i.split()  # 공백 기준 분리\n",
    "        a, op, b, _, c = tokens  # 예: ['3', '-', '4', '=', '-1']\n",
    "        \n",
    "        a, b, c = int(a), int(b), int(c)\n",
    "        \n",
    "        if op == \"+\" and a + b == c:\n",
    "            result.append(\"O\")\n",
    "        elif op == \"-\" and a - b == c:\n",
    "            result.append(\"O\")\n",
    "        else:\n",
    "            result.append(\"X\")\n",
    "    return result"
   ]
  },
  {
   "cell_type": "code",
   "execution_count": null,
   "id": "ab69e99e",
   "metadata": {},
   "outputs": [],
   "source": [
    "#어디서 초기화를 하느냐?\n",
    "def solution(picture, k):\n",
    "    pic=[]\n",
    "    for i in picture:\n",
    "        pix=\"\"\n",
    "        for m in i:\n",
    "            pix += m*k\n",
    "        for _ in range(k):\n",
    "            pic.append(pix)\n",
    "    return pic\n",
    "            "
   ]
  },
  {
   "cell_type": "code",
   "execution_count": null,
   "id": "dfc423da",
   "metadata": {},
   "outputs": [],
   "source": [
    "#너무 adhoc한거같다.\n",
    "from collections import Counter\n",
    "import string\n",
    "\n",
    "def solution(my_string):\n",
    "    counter = Counter(my_string)\n",
    "    alphabet = string.ascii_uppercase + string.ascii_lowercase\n",
    "    result = [counter.get(ch, 0) for ch in alphabet]\n",
    "    return result\n",
    "\n",
    "##\n",
    "from collections import Counter\n",
    "\n",
    "s = \"the quick brown fox\"\n",
    "c = Counter(s)\n",
    "\n",
    "freq_vector = [c.get(ch, 0) for ch in \"abcdefghijklmnopqrstuvwxyz\"]"
   ]
  },
  {
   "cell_type": "code",
   "execution_count": null,
   "id": "4d30005d",
   "metadata": {},
   "outputs": [],
   "source": [
    "def solution(n):\n",
    "    num = 1\n",
    "    result = 1\n",
    "    while num <= n:\n",
    "        num +=1\n",
    "        result += 1\n",
    "        if result %3 == 0 :\n",
    "            result +=1\n",
    "        if \"3\" in str(result):\n",
    "            result +=1\n",
    "    return result\n",
    "# while문 스탑 조건이랑, 반복기준을 어디에 둬야될지 공부하기 좋은듯.조건이 완료되어야 반복기준이 올라감.\n",
    "def solution(n):\n",
    "    num = 0\n",
    "    result = 0\n",
    "    while num < n:\n",
    "        result += 1\n",
    "        if result %3 ==0 or \"3\" in str(result) :\n",
    "            continue\n",
    "        num+=1\n",
    "    return result"
   ]
  },
  {
   "cell_type": "code",
   "execution_count": null,
   "id": "dce5972e",
   "metadata": {},
   "outputs": [],
   "source": [
    "#재귀함수..\n",
    "def solution(chicken):\n",
    "    coupon = chicken%10\n",
    "    count = chicken//10\n",
    "    if count+coupon <10 : \n",
    "        return count\n",
    "    else : return count + solution(count+coupon)"
   ]
  },
  {
   "cell_type": "code",
   "execution_count": null,
   "id": "222feb51",
   "metadata": {},
   "outputs": [],
   "source": [
    "# 풀었지만 비효율적이다 TODO\n",
    "def solution(numbers):\n",
    "    nums = [\"zero\", \"one\", \"two\", \"three\", \"four\", \"five\", \"six\", \"seven\", \"eight\", \"nine\"]\n",
    "    len_nums = [\"4\",\"3\",\"3\",\"5\",\"4\",\"4\",\"3\",\"5\",\"5\",\"4\"]\n",
    "    count = 0\n",
    "    result = \"\"\n",
    "    while count != len(numbers):\n",
    "        for i in [3,4,5]:\n",
    "            if count+i <= len(numbers)+1:\n",
    "                for idx, num in enumerate(nums):\n",
    "                    if numbers[count:count+i] == num:\n",
    "                        result += str(idx)\n",
    "                        count += int(len_nums[idx])\n",
    "    return int(result)\n",
    "                \n",
    "                \n",
    "        "
   ]
  },
  {
   "cell_type": "code",
   "execution_count": null,
   "id": "a9d82c33",
   "metadata": {},
   "outputs": [],
   "source": []
  }
 ],
 "metadata": {
  "kernelspec": {
   "display_name": "Python 3 (ipykernel)",
   "language": "python",
   "name": "python3"
  },
  "language_info": {
   "codemirror_mode": {
    "name": "ipython",
    "version": 3
   },
   "file_extension": ".py",
   "mimetype": "text/x-python",
   "name": "python",
   "nbconvert_exporter": "python",
   "pygments_lexer": "ipython3",
   "version": "3.13.5"
  }
 },
 "nbformat": 4,
 "nbformat_minor": 5
}
