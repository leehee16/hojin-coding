{
 "cells": [
  {
   "cell_type": "code",
   "execution_count": 2,
   "id": "2f9a4d44",
   "metadata": {},
   "outputs": [],
   "source": [
    "def solution(n):\n",
    "    result = [n]\n",
    "    curr = n\n",
    "    while curr != 1:\n",
    "        if curr%2 == 0:\n",
    "            curr = curr/2\n",
    "        else : curr = curr*3 +1\n",
    "        result.append(curr)\n",
    "    return result\n",
    "\n",
    "#수정사항 : python의 '/'는 float를 반환하므로, '//'로 나눠주는게 낫다."
   ]
  },
  {
   "cell_type": "code",
   "execution_count": null,
   "id": "e957ad3e",
   "metadata": {},
   "outputs": [],
   "source": []
  }
 ],
 "metadata": {
  "kernelspec": {
   "display_name": "study",
   "language": "python",
   "name": "python3"
  },
  "language_info": {
   "codemirror_mode": {
    "name": "ipython",
    "version": 3
   },
   "file_extension": ".py",
   "mimetype": "text/x-python",
   "name": "python",
   "nbconvert_exporter": "python",
   "pygments_lexer": "ipython3",
   "version": "3.11.13"
  }
 },
 "nbformat": 4,
 "nbformat_minor": 5
}
