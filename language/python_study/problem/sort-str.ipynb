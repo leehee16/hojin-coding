{
 "cells": [
  {
   "cell_type": "code",
   "execution_count": null,
   "id": "747a52bb",
   "metadata": {},
   "outputs": [],
   "source": [
    "#문자 정렬.. map으로 Str로 변환\n",
    "# sort에 key쓰고 lambda;\n",
    "\n",
    "def solution(numbers):\n",
    "    numbers = list(map(str,numbers))\n",
    "    numbers.sort(key=lambda x: x*3,reverse =True)\n",
    "    return '0' if numbers[0] == '0' else  ''.join(numbers)"
   ]
  }
 ],
 "metadata": {
  "language_info": {
   "name": "python"
  }
 },
 "nbformat": 4,
 "nbformat_minor": 5
}
