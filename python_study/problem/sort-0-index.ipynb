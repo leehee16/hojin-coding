{
 "cells": [
  {
   "cell_type": "code",
   "execution_count": null,
   "id": "bf3815cb",
   "metadata": {},
   "outputs": [],
   "source": [
    "def solution(array, commands):\n",
    "    answer=[]\n",
    "    for command in commands :\n",
    "        slices = array[command[0]-1:command[1]]\n",
    "        slices.sort()\n",
    "        answer.append(slices[command[2]-1])\n",
    "    return answer"
   ]
  },
  {
   "cell_type": "code",
   "execution_count": null,
   "id": "7fd23174",
   "metadata": {},
   "outputs": [],
   "source": [
    "# 인덱싱이 헷갈린다 ㅜㅜ"
   ]
  }
 ],
 "metadata": {
  "language_info": {
   "name": "python"
  }
 },
 "nbformat": 4,
 "nbformat_minor": 5
}
