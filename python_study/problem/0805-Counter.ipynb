{
 "cells": [
  {
   "cell_type": "code",
   "execution_count": 1,
   "id": "de3a9acb",
   "metadata": {},
   "outputs": [],
   "source": [
    "from collections import Counter\n",
    "\n",
    "def solution(a, b, c, d):\n",
    "    count = Counter([a,b,c,d])\n",
    "    if len(count) == 1 :\n",
    "        return 1111*max(count.keys())\n",
    "    elif len(count) == 4 : \n",
    "        return min(count.keys())\n",
    "    elif len(count) == 3 :\n",
    "        k= [a for a in count.keys() if count[a] == 1]\n",
    "        return k[0]*k[1]\n",
    "    elif len(count) == 2 and len(set(list(count.values())))==1 :\n",
    "        k = list(count.keys())\n",
    "        return (k[0]+k[1])*abs((k[0]-k[1]))\n",
    "    else :\n",
    "        mx = count.most_common()[0][0]\n",
    "        mn = count.most_common()[-1][0]\n",
    "        return (10*mx + mn)**2"
   ]
  },
  {
   "cell_type": "code",
   "execution_count": 10,
   "id": "05637025",
   "metadata": {},
   "outputs": [
    {
     "name": "stdout",
     "output_type": "stream",
     "text": [
      "dict_values([4, 2, 2])\n",
      "dict_keys([1, 2, 3])\n",
      "dict_items([(1, 4), (2, 2), (3, 2)])\n"
     ]
    }
   ],
   "source": [
    "# Counter 사용법.\n",
    "from collections import Counter\n",
    "counter = Counter([1,2,3,1,1,1,2,3])\n",
    "print(counter.values())\n",
    "print(counter.keys())\n",
    "print(counter.items())"
   ]
  },
  {
   "cell_type": "code",
   "execution_count": null,
   "id": "82db3ce0",
   "metadata": {},
   "outputs": [],
   "source": [
    "from collections import Counter\n",
    "\n",
    "def solution(a, b, c, d):\n",
    "   count = Counter([a, b, c, d])\n",
    "   values = sorted(count.values())\n",
    "   \n",
    "   if values == [4]:  # 모두 같음\n",
    "       return 1111 * a\n",
    "   \n",
    "   elif values == [1, 1, 1, 1]:  # 모두 다름  \n",
    "       return min(a, b, c, d)\n",
    "   \n",
    "   elif values == [1, 1, 2]:  # 2개 같음 + 2개 각각 다름\n",
    "       pair = count.most_common(1)[0][0]\n",
    "       singles = [num for num, cnt in count.items() if cnt == 1]\n",
    "       return singles[0] * singles[1]\n",
    "   \n",
    "   elif values == [2, 2]:  # 2개씩 2쌍\n",
    "       nums = list(count.keys())\n",
    "       return (nums[0] + nums[1]) * abs(nums[0] - nums[1])\n",
    "   \n",
    "   else:  # values == [1, 3]: 3개 같음 + 1개 다름\n",
    "       p = count.most_common(1)[0][0]  # 3번 나온 수\n",
    "       q = count.most_common()[-1][0]  # 1번 나온 수\n",
    "       return (10 * p + q) ** 2"
   ]
  }
 ],
 "metadata": {
  "kernelspec": {
   "display_name": "study",
   "language": "python",
   "name": "python3"
  },
  "language_info": {
   "codemirror_mode": {
    "name": "ipython",
    "version": 3
   },
   "file_extension": ".py",
   "mimetype": "text/x-python",
   "name": "python",
   "nbconvert_exporter": "python",
   "pygments_lexer": "ipython3",
   "version": "3.11.13"
  }
 },
 "nbformat": 4,
 "nbformat_minor": 5
}
