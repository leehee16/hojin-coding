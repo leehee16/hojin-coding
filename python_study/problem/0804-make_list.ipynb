{
 "cells": [
  {
   "cell_type": "markdown",
   "id": "8d90280e",
   "metadata": {},
   "source": [
    "이진수로 풀도록 생각하긴했지만, 이걸 bin(i)로 구현하는게 어렵고.."
   ]
  },
  {
   "cell_type": "code",
   "execution_count": null,
   "id": "61b3cae7",
   "metadata": {},
   "outputs": [],
   "source": [
    "def solution(l, r):\n",
    "    five_list = [5*int(bin(i)[2:]) for i in range(1,64)]\n",
    "    if not [a for a in five_list if l<=a<=r] :\n",
    "        return [-1]\n",
    "    else: return [a for a in five_list if l<=a<=r]"
   ]
  },
  {
   "cell_type": "code",
   "execution_count": null,
   "id": "d066aaca",
   "metadata": {},
   "outputs": [],
   "source": [
    "# 코드 다듬기!\n",
    "def solution(l, r):\n",
    "    five_list = [5*int(bin(i)[2:]) for i in range(1,64)]\n",
    "    filtered = [a for a in five_list if l<=a<=r]\n",
    "    return filtered if filtered else [-1]"
   ]
  },
  {
   "cell_type": "code",
   "execution_count": null,
   "id": "1fee32ab",
   "metadata": {},
   "outputs": [],
   "source": [
    "# 전수검사 방식 : set을 쓰는이유.\n",
    "def solution(l,r):\n",
    "    result = []\n",
    "    for i in range(l,r+1):\n",
    "        if all(c in {'0', '5'} for c in str(i)) :\n",
    "            result.append(i)\n",
    "    return result if result else [-1] "
   ]
  }
 ],
 "metadata": {
  "language_info": {
   "name": "python"
  }
 },
 "nbformat": 4,
 "nbformat_minor": 5
}
