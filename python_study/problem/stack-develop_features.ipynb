{
 "cells": [
  {
   "cell_type": "code",
   "execution_count": 33,
   "id": "82fdb6b5",
   "metadata": {},
   "outputs": [],
   "source": [
    "p = [93, 30, 55]\t\n",
    "s = [1, 30, 5]\t"
   ]
  },
  {
   "cell_type": "code",
   "execution_count": null,
   "id": "499cd19a",
   "metadata": {},
   "outputs": [
    {
     "name": "stdout",
     "output_type": "stream",
     "text": [
      "9\n"
     ]
    }
   ],
   "source": [
    "import math\n",
    "\n",
    "def solution(progresses:list, speeds:list) -> list :\n",
    "    running_day = [math.ceil((100-x)/y) for x,y in zip(progresses, speeds)]\n",
    "    # 예 [7,3,9,8,7,8]\n",
    "    # 예 [3,4,1]\n",
    "    return running_day\n",
    "\n",
    "    ## 기준일은 첫번째 값이다. 일단, 기준일보타 작은 뭉치를 만든다. 그걸 list에서 제외한다. 조건은 기준일보다 높으면..\n",
    "\n"
   ]
  },
  {
   "cell_type": "code",
   "execution_count": null,
   "id": "621d5d33",
   "metadata": {},
   "outputs": [
    {
     "name": "stdout",
     "output_type": "stream",
     "text": [
      "[1, 2]\n"
     ]
    }
   ],
   "source": [
    "import math\n",
    "\n",
    "def solution(progresses:list, speeds:list) -> list :\n",
    "    running_day = [math.ceil((100-x)/y) for x,y in zip(progresses, speeds)]\n",
    "    # 예 [7,3,9,8,7,8]\n",
    "    # 예 [3,4,1]\n",
    "    return running_day\n",
    "\n",
    "def take_while_decreasing(lst, first=None, prev=None, count=0):\n",
    "    if not lst:\n",
    "        return count\n",
    "\n",
    "    curr = lst[0]\n",
    "\n",
    "    # 최초 호출 시 기준값 설정\n",
    "    if first is None:\n",
    "        first = lst.pop(0)\n",
    "        return take_while_decreasing(lst, first=first, prev=first, count=1)\n",
    "\n",
    "    # 조건: 단조감소 AND curr <= first\n",
    "    if curr <= prev and curr <= first:\n",
    "        lst.pop(0)\n",
    "        return take_while_decreasing(lst, first=first, prev=curr, count=count + 1)\n",
    "    else:\n",
    "        return count"
   ]
  },
  {
   "cell_type": "code",
   "execution_count": 19,
   "id": "00b52e3a",
   "metadata": {},
   "outputs": [
    {
     "data": {
      "text/plain": [
       "[2, 1]"
      ]
     },
     "execution_count": 19,
     "metadata": {},
     "output_type": "execute_result"
    }
   ],
   "source": [
    "import math\n",
    "\n",
    "def solution(progresses: list, speeds: list) -> list:\n",
    "    running_day = [math.ceil((100 - x) / y) for x, y in zip(progresses, speeds)]\n",
    "\n",
    "    def take_chunk(lst, first=None, prev=None, count=0):\n",
    "        if not lst:\n",
    "            return count\n",
    "\n",
    "        curr = lst[0]\n",
    "\n",
    "        if first is None:\n",
    "            first = lst.pop(0)\n",
    "            return take_chunk(lst, first=first, prev=first, count=1)\n",
    "\n",
    "        if curr <= prev and curr <= first:\n",
    "            lst.pop(0)\n",
    "            return take_chunk(lst, first=first, prev=curr, count=count + 1)\n",
    "        else:\n",
    "            return count\n",
    "\n",
    "    result = []\n",
    "    temp = running_day.copy()\n",
    "    while temp:\n",
    "        count = take_chunk(temp)\n",
    "        result.append(count)\n",
    "\n",
    "    return result\n",
    "\n",
    "solution(p,s)"
   ]
  },
  {
   "cell_type": "code",
   "execution_count": 30,
   "id": "5d64c002",
   "metadata": {},
   "outputs": [
    {
     "data": {
      "text/plain": [
       "[4, 5]"
      ]
     },
     "execution_count": 30,
     "metadata": {},
     "output_type": "execute_result"
    }
   ],
   "source": [
    "k = [1,2,3,4,5]\n",
    "k[0:3]\n",
    "k[3:5]"
   ]
  },
  {
   "cell_type": "code",
   "execution_count": null,
   "id": "5d36bf20",
   "metadata": {},
   "outputs": [],
   "source": [
    "# 3번째 시도 : 함수안의 변수명은 뭘로하지?\n",
    "p = [93, 30, 55]\t\n",
    "s = [1, 30, 5]\t\n",
    "d = [7, 4, 3, 6, 7]\n",
    "# 1. 선행 숫자가 먼저 100이 되어야한다.\n",
    "# 2. 선행 숫자가 100이 되는 시점에, 뒤에 숫자도 100이 라면 뭉친다.\n",
    "# 3. 중간에 100이 아니면 다른 값으로 list에 append한다.\n",
    "\n",
    "def cal_deploy_day(p:list,s:list) :\n",
    "    \"\"\"\n",
    "    100퍼센트에 도달하는데 걸리는 일수 반환.\n",
    "    \"\"\"\n",
    "    def ceil(k) :\n",
    "        return k//2+1\n",
    "\n",
    "    result = [ceil((100-x)/y) for x,y in zip(p,s)] \n",
    "    return result\n",
    "\n",
    "# 함수랑 함수를 뭉치는 방법을 모르겠다.\n",
    "\n",
    "def desc_count(x:list) -> list :\n",
    "    m = []\n",
    "    for i in range(len(x)-1) :\n",
    "        while x[i] < x[i+1] :\n",
    "            popped = x[0:(i+1)]\n",
    "            lst = x[i+1:len(x)]\n",
    "            result = m.append(len(popped))\n",
    "    if not lst :\n",
    "        return result\n",
    "    else :\n",
    "        return desc_count(lst)\n",
    "\n",
    "def solution(p:list,s:list) :\n",
    "    return desc_count(cal_deploy_day(p,s))"
   ]
  },
  {
   "cell_type": "code",
   "execution_count": 53,
   "id": "eeaa16b6",
   "metadata": {},
   "outputs": [],
   "source": [
    "# p = [93, 30, 55]\t\n",
    "# s = [1, 30, 5]\n",
    "# d - [7,4,6,7]\n",
    "# d - [7,4,3,8,6]\n",
    "def cal_days(p:list,s:list):\n",
    "    return [((100-x)//y+1) for (x,y) in zip(p,s)]\n",
    "def append_deploy(d) :\n",
    "    length = 1\n",
    "    result = []\n",
    "    max_d = 0\n",
    "    for i in range(len(d)-2) :\n",
    "        if d[i] >= d[i+1] :\n",
    "            max_d = d[i]\n",
    "            length += 1\n",
    "        elif d[i+1] <= max_d :\n",
    "            length += 1\n",
    "        else : \n",
    "            max_d = d[i+1]\n",
    "            result.append(length)\n",
    "            return result.extend(append_deploy(d[i+1:]))\n",
    "    return result\n",
    "\n",
    "            \n",
    "        #for문 돌면서 전역으로 한 값을 업데이트 할 수 있나?\n"
   ]
  },
  {
   "cell_type": "code",
   "execution_count": 55,
   "id": "ccab2f5d",
   "metadata": {},
   "outputs": [],
   "source": [
    "def cal_days(p: list, s: list):\n",
    "    return [((100 - x) // y + 1) for (x, y) in zip(p, s)]\n",
    "\n",
    "def append_deploy(d):\n",
    "    length = 1\n",
    "    result = []\n",
    "    max_d = d[0]\n",
    "    \n",
    "    for i in range(1, len(d)):\n",
    "        if d[i] <= max_d:\n",
    "            length += 1\n",
    "        else:\n",
    "            result.append(length)\n",
    "            # 다음 구간도 이어서 처리해야 하므로 extend 사용\n",
    "            return result + append_deploy(d[i:])\n",
    "        max_d = max(max_d, d[i])\n",
    "    \n",
    "    result.append(length)\n",
    "    return result"
   ]
  },
  {
   "cell_type": "code",
   "execution_count": null,
   "id": "f0421d31",
   "metadata": {},
   "outputs": [
    {
     "data": {
      "text/plain": [
       "[2, 1]"
      ]
     },
     "execution_count": 56,
     "metadata": {},
     "output_type": "execute_result"
    }
   ],
   "source": [
    "from collections import deque\n",
    "\n",
    "def append_deploy(d):\n",
    "    result = []\n",
    "    d = deque(d)\n",
    "    max_d = d.popleft()\n",
    "    count = 1\n",
    "    \n",
    "    while d:\n",
    "        current = d.popleft()\n",
    "        if current <= max_d:\n",
    "            count += 1\n",
    "        else:\n",
    "            result.append(count)\n",
    "            max_d = current\n",
    "            count = 1\n",
    "    result.append(count)\n",
    "    return result"
   ]
  }
 ],
 "metadata": {
  "kernelspec": {
   "display_name": "venv",
   "language": "python",
   "name": "python3"
  },
  "language_info": {
   "codemirror_mode": {
    "name": "ipython",
    "version": 3
   },
   "file_extension": ".py",
   "mimetype": "text/x-python",
   "name": "python",
   "nbconvert_exporter": "python",
   "pygments_lexer": "ipython3",
   "version": "3.12.2"
  }
 },
 "nbformat": 4,
 "nbformat_minor": 5
}
