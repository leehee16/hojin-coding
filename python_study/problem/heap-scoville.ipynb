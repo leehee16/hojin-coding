{
 "cells": [
  {
   "cell_type": "code",
   "execution_count": null,
   "id": "04098b78",
   "metadata": {},
   "outputs": [],
   "source": [
    "\n"
   ]
  },
  {
   "cell_type": "markdown",
   "id": "cf860ace",
   "metadata": {},
   "source": [
    "최소힙 : heapq를 임포트"
   ]
  },
  {
   "cell_type": "code",
   "execution_count": 2,
   "id": "b8815cd0",
   "metadata": {},
   "outputs": [],
   "source": [
    "scoville = [1, 2, 3, 9, 10, 12]\n",
    "k =5"
   ]
  },
  {
   "cell_type": "code",
   "execution_count": 9,
   "id": "979fc050",
   "metadata": {},
   "outputs": [
    {
     "name": "stdout",
     "output_type": "stream",
     "text": [
      "1\n"
     ]
    }
   ],
   "source": [
    "import heapq\n",
    "\n",
    "def solution(scoville:list, k:int):\n",
    "## 힙으로 변환\n",
    "    heapq.heapify(scoville)\n",
    "## 섞은 횟수 초기화\n",
    "    count = 0\n",
    "## 가장 작은 값이 k가 될때까지 반복\n",
    "    while scoville :\n",
    "        if scoville[0] >= k :\n",
    "            return count\n",
    "        if len(scoville) < 2 :\n",
    "            return -1\n",
    "        smallest = heapq.heappop(scoville)\n",
    "        second = heapq.heappop(scoville)\n",
    "        new_food = smallest + second*2\n",
    "        heapq.heappush(scoville, new_food)\n",
    "        count += 1\n",
    "\n",
    "    return -1\n",
    "\n",
    "print(solution(scoville,k))\n"
   ]
  }
 ],
 "metadata": {
  "kernelspec": {
   "display_name": "study",
   "language": "python",
   "name": "python3"
  },
  "language_info": {
   "codemirror_mode": {
    "name": "ipython",
    "version": 3
   },
   "file_extension": ".py",
   "mimetype": "text/x-python",
   "name": "python",
   "nbconvert_exporter": "python",
   "pygments_lexer": "ipython3",
   "version": "3.11.13"
  }
 },
 "nbformat": 4,
 "nbformat_minor": 5
}
