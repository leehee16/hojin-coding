{
 "cells": [
  {
   "cell_type": "code",
   "execution_count": 2,
   "id": "c7faf1ae",
   "metadata": {},
   "outputs": [],
   "source": [
    "arr = [1,1,2,2,4,5]"
   ]
  },
  {
   "cell_type": "code",
   "execution_count": 1,
   "id": "6361482f",
   "metadata": {},
   "outputs": [],
   "source": [
    "def solution(arr):\n",
    "    a = [arr[0]]\n",
    "    for i in range(len(arr)-1):\n",
    "        if arr[i+1] != arr[i]:\n",
    "            a.append(arr[i+1])\n",
    "    return a"
   ]
  },
  {
   "cell_type": "code",
   "execution_count": 4,
   "id": "f42427be",
   "metadata": {},
   "outputs": [
    {
     "name": "stdout",
     "output_type": "stream",
     "text": [
      "[1, 2, 4, 5]\n"
     ]
    }
   ],
   "source": [
    "print(solution(arr))"
   ]
  },
  {
   "cell_type": "code",
   "execution_count": 10,
   "id": "bad814d6",
   "metadata": {},
   "outputs": [],
   "source": [
    "# using list comprehension\n",
    "def lc(arr):\n",
    "    return [arr[i] for i in range(len(arr)) if i ==0 or arr[i] != arr[i-1]]"
   ]
  },
  {
   "cell_type": "code",
   "execution_count": 11,
   "id": "b38b8554",
   "metadata": {},
   "outputs": [
    {
     "name": "stdout",
     "output_type": "stream",
     "text": [
      "[1, 2, 4, 5]\n"
     ]
    }
   ],
   "source": [
    "print(lc(arr))"
   ]
  },
  {
   "cell_type": "code",
   "execution_count": 14,
   "id": "fe72939e",
   "metadata": {},
   "outputs": [
    {
     "name": "stdout",
     "output_type": "stream",
     "text": [
      "[1, 2, 4, 5]\n"
     ]
    }
   ],
   "source": [
    "# using itertools\n",
    "from itertools import groupby\n",
    "def ig(arr:list = [int])-> list :\n",
    "    return [key for key, _ in groupby(arr)]\n",
    "\n",
    "print(ig(arr))\n"
   ]
  },
  {
   "cell_type": "code",
   "execution_count": 17,
   "id": "728e9153",
   "metadata": {},
   "outputs": [
    {
     "name": "stdout",
     "output_type": "stream",
     "text": [
      "[(1, 1), (2, 2), (4,), (5,)]\n"
     ]
    }
   ],
   "source": [
    "# group도 뽑아보자.\n",
    "from itertools import groupby\n",
    "def igg(arr:list = [int])-> list :\n",
    "    return [tuple(group) for _,group in groupby(arr)]\n",
    "print(igg(arr))"
   ]
  },
  {
   "cell_type": "markdown",
   "id": "a3265672",
   "metadata": {},
   "source": [
    "### 시간복잡도는 모두 O(n)이다."
   ]
  },
  {
   "cell_type": "markdown",
   "id": "975db865",
   "metadata": {},
   "source": []
  }
 ],
 "metadata": {
  "kernelspec": {
   "display_name": "venv",
   "language": "python",
   "name": "python3"
  },
  "language_info": {
   "codemirror_mode": {
    "name": "ipython",
    "version": 3
   },
   "file_extension": ".py",
   "mimetype": "text/x-python",
   "name": "python",
   "nbconvert_exporter": "python",
   "pygments_lexer": "ipython3",
   "version": "3.12.2"
  }
 },
 "nbformat": 4,
 "nbformat_minor": 5
}
