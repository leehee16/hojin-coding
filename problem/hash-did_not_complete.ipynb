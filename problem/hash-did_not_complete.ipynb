{
 "cells": [
  {
   "cell_type": "markdown",
   "id": "8133b61f",
   "metadata": {},
   "source": [
    "## 문제 설명\n",
    "\n",
    "수많은 마라톤 선수들이 마라톤에 참여하였습니다. 단 한 명의 선수를 제외하고는 모든 선수가 마라톤을 완주하였습니다.\n",
    "\n",
    "마라톤에 참여한 선수들의 이름이 담긴 배열 `participant`와 완주한 선수들의 이름이 담긴 배열 `completion`이 주어질 때, 완주하지 못한 선수의 이름을 `return` 하도록 `solution` 함수를 작성해주세요.\n",
    "\n",
    "---\n",
    "\n",
    "## 제한사항\n",
    "\n",
    "- 마라톤 경기에 참여한 선수의 수는 1명 이상 100,000명 이하입니다.\n",
    "- `completion`의 길이는 `participant`의 길이보다 1 작습니다.\n",
    "- 참가자의 이름은 1개 이상 20개 이하의 알파벳 소문자로 이루어져 있습니다.\n",
    "- 참가자 중에는 동명이인이 있을 수 있습니다.\n",
    "\n",
    "---\n",
    "\n",
    "## 입출력 예\n",
    "\n",
    "| participant                                          | completion                                | return   |\n",
    "|------------------------------------------------------|-------------------------------------------|----------|\n",
    "| `[\"leo\", \"kiki\", \"eden\"]`                            | `[\"eden\", \"kiki\"]`                        | `\"leo\"`  |\n",
    "| `[\"marina\", \"josipa\", \"nikola\", \"vinko\", \"filipa\"]` | `[\"josipa\", \"filipa\", \"marina\", \"nikola\"]` | `\"vinko\"`|\n",
    "| `[\"mislav\", \"stanko\", \"mislav\", \"ana\"]`              | `[\"stanko\", \"ana\", \"mislav\"]`             | `\"mislav\"`|\n",
    "\n",
    "---\n",
    "\n",
    "## 입출력 예 설명\n",
    "\n",
    "### 예제 #1  \n",
    "`\"leo\"`는 참여자 명단에는 있지만, 완주자 명단에는 없기 때문에 완주하지 못했습니다.\n",
    "\n",
    "### 예제 #2  \n",
    "`\"vinko\"`는 참여자 명단에는 있지만, 완주자 명단에는 없기 때문에 완주하지 못했습니다.\n",
    "\n",
    "### 예제 #3  \n",
    "`\"mislav\"`는 참여자 명단에는 두 명이 있지만, 완주자 명단에는 한 명밖에 없기 때문에 한 명은 완주하지 못했습니다."
   ]
  },
  {
   "cell_type": "code",
   "execution_count": 1,
   "id": "7411ddde",
   "metadata": {},
   "outputs": [],
   "source": [
    "def did_not_complete(participant:list[str], completion:list[str]) -> str :\n",
    "    return str(set(completion)-set(participant))"
   ]
  },
  {
   "cell_type": "code",
   "execution_count": 7,
   "id": "93aeccd7",
   "metadata": {},
   "outputs": [],
   "source": [
    "from collections import Counter\n",
    "\n",
    "def did_not_comp(participant, completion):\n",
    "    return list((Counter(participant)-Counter(completion)).elements())[0]"
   ]
  },
  {
   "cell_type": "code",
   "execution_count": 10,
   "id": "3d8b7a64",
   "metadata": {},
   "outputs": [
    {
     "name": "stdout",
     "output_type": "stream",
     "text": [
      "leo\n"
     ]
    }
   ],
   "source": [
    "participant = [\"leo\", \"kiki\", \"eden\"]\n",
    "completion = [\"eden\", \"kiki\"]\n",
    "print(did_not_comp(participant,completion))"
   ]
  }
 ],
 "metadata": {
  "kernelspec": {
   "display_name": "study",
   "language": "python",
   "name": "python3"
  },
  "language_info": {
   "codemirror_mode": {
    "name": "ipython",
    "version": 3
   },
   "file_extension": ".py",
   "mimetype": "text/x-python",
   "name": "python",
   "nbconvert_exporter": "python",
   "pygments_lexer": "ipython3",
   "version": "3.10.18"
  }
 },
 "nbformat": 4,
 "nbformat_minor": 5
}
