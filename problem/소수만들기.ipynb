{
 "cells": [
  {
   "cell_type": "markdown",
   "id": "96899cba",
   "metadata": {},
   "source": [
    "# 문제 설명\n",
    "\n",
    "주어진 숫자 중 3개의 수를 더했을 때 **소수**가 되는 경우의 개수를 구하려고 합니다.  \n",
    "숫자들이 들어있는 배열 `nums`가 매개변수로 주어질 때,  \n",
    "`nums`에 있는 숫자들 중 **서로 다른 3개**를 골라 더했을 때 소수가 되는 경우의 개수를 `return` 하도록 `solution` 함수를 완성해주세요.\n",
    "\n",
    "---\n",
    "\n",
    "## 제한사항\n",
    "\n",
    "- `nums`에 들어있는 숫자의 개수는 **3개 이상 50개 이하**입니다.\n",
    "- `nums`의 각 원소는 **1 이상 1,000 이하**의 자연수이며, **중복된 숫자가 들어있지 않습니다.**\n",
    "\n",
    "---\n",
    "\n",
    "## 입출력 예\n",
    "\n",
    "| nums             | result |\n",
    "|------------------|--------|\n",
    "| [1, 2, 3, 4]     | 1      |\n",
    "| [1, 2, 7, 6, 4]  | 4      |\n",
    "\n",
    "---\n",
    "\n",
    "## 입출력 예 설명\n",
    "\n",
    "### 예제 #1\n",
    "- [1, 2, 4]를 이용해서 **7**을 만들 수 있습니다. (7은 소수)\n",
    "\n",
    "### 예제 #2\n",
    "- [1, 2, 4] → **7**\n",
    "- [1, 4, 6] → **11**\n",
    "- [2, 4, 7] → **13**\n",
    "- [4, 6, 7] → **17**\n",
    "\n",
    "총 **4가지 경우**가 소수를 만듭니다."
   ]
  },
  {
   "cell_type": "markdown",
   "id": "5f6a1977",
   "metadata": {},
   "source": [
    "## 첫번째 시도\n",
    "1. itertools.combinations으로 컴비네이션 수비게 할 수 있는지 몰랐다.  \n",
    "    그리고 그 출력이 (),(),()와 같은 형식인줄 몰랐다.\n",
    "2. 3개를 순차적으로 뽑고, 소수의 기본적인 원리를 이용해서 막무가내로 나누는 작업을 진행했다. 이경우 $n^3$의 시간복잡도를 가진다. 다른 방식을 찾아보자  \n",
    "\t•\t조합 수: O(n³)  \n",
    "\t•\t소수 판별(약 O(√a)라고 해도): O(√m), m은 최대 조합합"
   ]
  },
  {
   "cell_type": "code",
   "execution_count": null,
   "id": "60abb225",
   "metadata": {},
   "outputs": [],
   "source": [
    "# 첫번째 시도\n",
    "from itertools import combinations\n",
    "\n",
    "\n",
    "def solution1(nums):\n",
    "    result = 0\n",
    "    # 3개를 순차적으로 뽑는 로직\n",
    "    add_pop = [sum(c) for c in combinations(nums,3)]\n",
    "    # 이것을 해당 숫자보다 작은 값들로 나눠보는 로직. 나눠지면 stop, 안나눠지면 +=1\n",
    "    for a in add_pop :\n",
    "        for b in range(2,a) :\n",
    "            if a % b == 0 :\n",
    "                break\n",
    "        else : result += 1\n",
    "    return result \n",
    "\n",
    "input = [1,2,3,4,5,6,7,8]\n",
    "print(solution(input))"
   ]
  },
  {
   "cell_type": "markdown",
   "id": "c09d649e",
   "metadata": {},
   "source": [
    "## 두번째 시도\n",
    "### 에라토스테네스의 체(Sieve of Eratosthenes) 알고리즘"
   ]
  },
  {
   "cell_type": "code",
   "execution_count": 8,
   "id": "58b0d24a",
   "metadata": {},
   "outputs": [],
   "source": [
    "from itertools import combinations\n",
    "\n",
    "def is_prime_sieve(limit):\n",
    "    sieve = [True] * (limit + 1)\n",
    "    sieve[0] = sieve[1] = False\n",
    "    for i in range(2, int(limit ** 0.5) + 1):\n",
    "        if sieve[i]:\n",
    "            for j in range(i * i, limit + 1, i):\n",
    "                sieve[j] = False\n",
    "    return sieve\n",
    "\n",
    "def solution2(nums):\n",
    "    result = 0\n",
    "    add_pop = [sum(c) for c in combinations(nums, 3)]\n",
    "    max_sum = max(add_pop)\n",
    "    primes = is_prime_sieve(max_sum)\n",
    "    for a in add_pop:\n",
    "        if primes[a]:\n",
    "            result += 1\n",
    "    return result"
   ]
  },
  {
   "cell_type": "code",
   "execution_count": null,
   "id": "a288e0ca",
   "metadata": {},
   "outputs": [
    {
     "name": "stdout",
     "output_type": "stream",
     "text": [
      "18\n",
      "CPU times: user 585 μs, sys: 699 μs, total: 1.28 ms\n",
      "Wall time: 1.24 ms\n"
     ]
    }
   ],
   "source": [
    "%%time\n",
    "input = [1,2,3,4,5,6,7,8]\n",
    "print(solution1(input))"
   ]
  },
  {
   "cell_type": "code",
   "execution_count": 12,
   "id": "23fed77d",
   "metadata": {},
   "outputs": [
    {
     "name": "stdout",
     "output_type": "stream",
     "text": [
      "18\n",
      "CPU times: user 258 μs, sys: 83 μs, total: 341 μs\n",
      "Wall time: 346 μs\n"
     ]
    }
   ],
   "source": [
    "%%time\n",
    "input = [1,2,3,4,5,6,7,8]\n",
    "print(solution2(input))"
   ]
  }
 ],
 "metadata": {
  "kernelspec": {
   "display_name": "study",
   "language": "python",
   "name": "python3"
  },
  "language_info": {
   "codemirror_mode": {
    "name": "ipython",
    "version": 3
   },
   "file_extension": ".py",
   "mimetype": "text/x-python",
   "name": "python",
   "nbconvert_exporter": "python",
   "pygments_lexer": "ipython3",
   "version": "3.10.18"
  }
 },
 "nbformat": 4,
 "nbformat_minor": 5
}
