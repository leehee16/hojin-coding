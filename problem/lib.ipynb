{
 "cells": [
  {
   "cell_type": "code",
   "execution_count": null,
   "id": "6e419d18",
   "metadata": {},
   "outputs": [],
   "source": [
    "# str suffle1\n",
    "def solution(str1, str2):\n",
    "#순회하는 건 같이. 그리고 문자열에 join해주면될듯\n",
    "    char = []\n",
    "    for i in range(len(str1)) :\n",
    "        char.append(str1[i])\n",
    "        char.append(str2[i])\n",
    "    answer = ''.join(char)\n",
    "    return answer"
   ]
  },
  {
   "cell_type": "code",
   "execution_count": null,
   "id": "4c72d61d",
   "metadata": {},
   "outputs": [],
   "source": [
    "def solution(str1, str2):\n",
    "    return ''.join(a + b for a, b in zip(str1, str2))\n",
    "# zip()은 동일한 인덱스끼리 한 쌍으로 묶음"
   ]
  },
  {
   "cell_type": "code",
   "execution_count": null,
   "id": "d0f9a1fb",
   "metadata": {},
   "outputs": [],
   "source": [
    "# 더 크게 합치기\n",
    "def solution(a, b):\n",
    "    k = str(a)+str(b)\n",
    "    l = str(b)+str(a)\n",
    "    if int(k) > int(l) :\n",
    "        answer = int(k)\n",
    "    elif int(k) < int(l) :\n",
    "        answer = int(l)\n",
    "    else :\n",
    "        answer = int(k)\n",
    "    return answer"
   ]
  },
  {
   "cell_type": "code",
   "execution_count": null,
   "id": "b217bfc2",
   "metadata": {},
   "outputs": [],
   "source": [
    "def solution(a, b):\n",
    "    ab = int(f\"{a}{b}\")\n",
    "    ba = int(f\"{b}{a}\")\n",
    "    return ab if ab >= ba else ba"
   ]
  },
  {
   "cell_type": "code",
   "execution_count": null,
   "id": "ccb8d98f",
   "metadata": {},
   "outputs": [],
   "source": [
    "def solution(a, b):\n",
    "    return max(int(f\"{a}{b}\"), 2*a*b)"
   ]
  }
 ],
 "metadata": {
  "language_info": {
   "name": "python"
  }
 },
 "nbformat": 4,
 "nbformat_minor": 5
}
