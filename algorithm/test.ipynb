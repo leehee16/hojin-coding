{
 "cells": [
  {
   "cell_type": "code",
   "execution_count": 5,
   "id": "cd828e0f",
   "metadata": {},
   "outputs": [],
   "source": [
    "arr = [3, 5, 6, 1, 2, 4, 3, 5, 6, 1, 2, 43, 5, 6, 1, 2, 43, 5, 6, 1, 2, 43, 5, 6, 1, 2, 43, 5, 6, 1, 2, 43, 5, 6, 1, 2, 43, 5, 6, 1, 2, 43, 5, 6, 1, 2, 43, 5, 6, 1, 2, 43, 5, 6, 1, 2, 43, 5, 6, 1, 2, 43, 5, 6, 1, 2, 43, 5, 6, 1, 2, 43, 5, 6, 1, 2, 43, 5, 6, 1, 2, 43, 5, 6, 1, 2, 43, 5, 6, 1, 2, 43, 5, 6, 1, 2, 43, 5, 6, 1, 2, 43, 5, 6, 1, 2, 43, 5, 6, 1, 2, 43, 5, 6, 1, 2, 43, 5, 6, 1, 2, 43, 5, 6, 1, 2, 4]\n"
   ]
  },
  {
   "cell_type": "code",
   "execution_count": 11,
   "id": "6106aa82",
   "metadata": {},
   "outputs": [
    {
     "name": "stdout",
     "output_type": "stream",
     "text": [
      "정답 = 6 / 현재 풀이 값 =  6\n",
      "정답 = 6 / 현재 풀이 값 =  6\n",
      "정답 = 1888 / 현재 풀이 값 =  1888\n"
     ]
    }
   ],
   "source": [
    "# 가장 큰 수를 반환하는 방법\n",
    "def find_max_num(array):\n",
    "    ans = 0\n",
    "    for i in range(len(array)) :\n",
    "        if array[i] >= ans :\n",
    "            ans = array[i]\n",
    "    return ans\n",
    "\n",
    "\n",
    "print(\"정답 = 6 / 현재 풀이 값 = \", find_max_num([3, 5, 6, 1, 2, 4]))\n",
    "print(\"정답 = 6 / 현재 풀이 값 = \", find_max_num([6, 6, 6]))\n",
    "print(\"정답 = 1888 / 현재 풀이 값 = \", find_max_num([6, 9, 2, 7, 1888]))"
   ]
  },
  {
   "cell_type": "code",
   "execution_count": 15,
   "id": "4ec077ae",
   "metadata": {},
   "outputs": [
    {
     "name": "stdout",
     "output_type": "stream",
     "text": [
      "정답 = i 현재 풀이 값 = i\n",
      "정답 = e 현재 풀이 값 = e\n",
      "정답 = b 현재 풀이 값 = b\n"
     ]
    }
   ],
   "source": [
    "# 어떤 알파벳이 가장 많이 반환되는가?\n",
    "def find_max_occurred_alphabet(string):\n",
    "    arr = [0]*26\n",
    "    max_num = 0\n",
    "    max_idx = 0\n",
    "    for s in string:\n",
    "        if s.isalpha():\n",
    "            arr[ord(s)-97] += 1\n",
    "    for i,v in enumerate(arr) :\n",
    "        if v > max_num :\n",
    "            max_num = v\n",
    "            max_idx = i\n",
    "    return chr(max_idx+97)\n",
    "\n",
    "\n",
    "result = find_max_occurred_alphabet\n",
    "print(\"정답 = i 현재 풀이 값 =\", result(\"hello my name is dingcodingco\"))\n",
    "print(\"정답 = e 현재 풀이 값 =\", result(\"we love algorithm\"))\n",
    "print(\"정답 = b 현재 풀이 값 =\", result(\"best of best youtube\"))"
   ]
  },
  {
   "cell_type": "code",
   "execution_count": 16,
   "id": "2b716841",
   "metadata": {},
   "outputs": [
    {
     "name": "stdout",
     "output_type": "stream",
     "text": [
      "정답 = True 현재 풀이 값 = True\n",
      "정답 = Flase 현재 풀이 값 = False\n",
      "정답 = True 현재 풀이 값 = True\n"
     ]
    }
   ],
   "source": [
    "#특정요소 찾기\n",
    "def is_number_exist(number, array):\n",
    "    for i in array:\n",
    "        if number == i :\n",
    "            return True\n",
    "    return False\n",
    "\n",
    "\n",
    "result = is_number_exist\n",
    "print(\"정답 = True 현재 풀이 값 =\", result(3, [3,5,6,1,2,4]))\n",
    "print(\"정답 = Flase 현재 풀이 값 =\", result(7, [6,6,6]))\n",
    "print(\"정답 = True 현재 풀이 값 =\", result(2, [6,9,2,7,1888]))"
   ]
  },
  {
   "cell_type": "code",
   "execution_count": 22,
   "id": "6251a211",
   "metadata": {},
   "outputs": [
    {
     "name": "stdout",
     "output_type": "stream",
     "text": [
      "테스트 3\n",
      "정답 = 728 현재 풀이 값 = 728\n",
      "정답 = 8820 현재 풀이 값 = 8820\n",
      "정답 = 270 현재 풀이 값 = 270\n"
     ]
    }
   ],
   "source": [
    "def find_max_plus_or_multiply(array):\n",
    "    cal = array[0]\n",
    "    for i in range(1,len(array)):\n",
    "        cal = max(cal*array[i],cal+array[i])\n",
    "    return cal\n",
    "\n",
    "result = find_max_plus_or_multiply\n",
    "print(\"테스트\",result([0,1,2]))\n",
    "print(\"정답 = 728 현재 풀이 값 =\", result([0,3,5,6,1,2,4]))\n",
    "print(\"정답 = 8820 현재 풀이 값 =\", result([3,2,1,5,9,7,4]))\n",
    "print(\"정답 = 270 현재 풀이 값 =\", result([1,1,1,3,3,2,5]))"
   ]
  },
  {
   "cell_type": "code",
   "execution_count": null,
   "id": "6cad346d",
   "metadata": {},
   "outputs": [
    {
     "name": "stdout",
     "output_type": "stream",
     "text": [
      "정답 = d 현재 풀이 값 = d\n",
      "정답 = c 현재 풀이 값 = c\n",
      "정답 = _ 현재 풀이 값 = _\n"
     ]
    }
   ],
   "source": [
    "# 251017 - 한번도 반복안된 문자 찾기\n",
    "def find_not_repeating_first_character(string):\n",
    "    for i in string:\n",
    "        count = 0\n",
    "        for j in string:\n",
    "            if  i == j:\n",
    "                count +=1\n",
    "        if count == 1:\n",
    "            return i\n",
    "    return \"_\"\n",
    "\n",
    "\n",
    "result = find_not_repeating_first_character\n",
    "print(\"정답 = d 현재 풀이 값 =\", result(\"abadabac\"))\n",
    "print(\"정답 = c 현재 풀이 값 =\", result(\"aabbcddd\"))\n",
    "print(\"정답 = _ 현재 풀이 값 =\", result(\"aaaaaaaa\"))"
   ]
  },
  {
   "cell_type": "code",
   "execution_count": null,
   "id": "d243bf5c",
   "metadata": {},
   "outputs": [
    {
     "name": "stdout",
     "output_type": "stream",
     "text": [
      "[2, 3, 5, 7, 11, 13, 17, 19]\n"
     ]
    }
   ],
   "source": [
    "# 251017 - 소수 나열하기 비효율.ver\n",
    "input = 20\n",
    "def find_prime_list_under_number(number):\n",
    "    ans = []\n",
    "    if number > 1:\n",
    "        ans.append(2)\n",
    "        ans.append(3)\n",
    "    for i in range(4,number+1):\n",
    "        is_prime = True\n",
    "        for j in range(2,i-1) :\n",
    "            if i%j == 0:\n",
    "                is_prime = False\n",
    "                break\n",
    "        if is_prime:\n",
    "            ans.append(i)\n",
    "    return ans \n",
    "\n",
    "\n",
    "\n",
    "\n",
    "result = find_prime_list_under_number(input)\n",
    "print(result)"
   ]
  },
  {
   "cell_type": "code",
   "execution_count": 41,
   "id": "fd21fdb0",
   "metadata": {},
   "outputs": [
    {
     "name": "stdout",
     "output_type": "stream",
     "text": [
      "[2, 3, 5, 7, 11, 13, 17, 19]\n"
     ]
    }
   ],
   "source": [
    "# 251017 - 소수 나열하기 효율.ver\n",
    "input = 20\n",
    "\n",
    "def is_prime(n:int) -> bool:\n",
    "    if n < 2 :\n",
    "        return False\n",
    "    if n == 2 :\n",
    "        return True\n",
    "    if n % 2 == 0 :\n",
    "        return False\n",
    "    for i in range(3, int(n ** 0.5)+1,2) :\n",
    "        if n % i == 0:\n",
    "            return False\n",
    "    return True\n",
    "\n",
    "\n",
    "def find_prime_list_under_number(number):\n",
    "    ans = []\n",
    "    for i in range(1,number+1):\n",
    "        if is_prime(i):\n",
    "            ans.append(i)\n",
    "    return ans\n",
    "\n",
    "\n",
    "\n",
    "\n",
    "result = find_prime_list_under_number(input)\n",
    "print(result)"
   ]
  },
  {
   "cell_type": "code",
   "execution_count": 61,
   "id": "1b1c9ea2",
   "metadata": {},
   "outputs": [
    {
     "name": "stdout",
     "output_type": "stream",
     "text": [
      "1\n"
     ]
    }
   ],
   "source": [
    "# 251017 - 문자열 뒤집기\n",
    "input = \"011110\"\n",
    "\n",
    "\n",
    "def find_count_to_turn_out_to_all_zero_or_all_one(string):\n",
    "    before = string[0]\n",
    "    a = 0\n",
    "    b = 0\n",
    "    if before == '1':\n",
    "        b +=1\n",
    "    else : a += 1\n",
    "\n",
    "    for i in range(1,len(string)):\n",
    "        if before != string[i]:\n",
    "            if string[i] == '1':\n",
    "                b+=1\n",
    "            else : a+=1\n",
    "            before = string[i]\n",
    "    return min(a,b)\n",
    "\n",
    "\n",
    "result = find_count_to_turn_out_to_all_zero_or_all_one(input)\n",
    "print(result)"
   ]
  }
 ],
 "metadata": {
  "kernelspec": {
   "display_name": "study",
   "language": "python",
   "name": "python3"
  },
  "language_info": {
   "codemirror_mode": {
    "name": "ipython",
    "version": 3
   },
   "file_extension": ".py",
   "mimetype": "text/x-python",
   "name": "python",
   "nbconvert_exporter": "python",
   "pygments_lexer": "ipython3",
   "version": "3.11.13"
  }
 },
 "nbformat": 4,
 "nbformat_minor": 5
}
