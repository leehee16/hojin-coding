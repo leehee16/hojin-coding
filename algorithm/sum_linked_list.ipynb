{
 "cells": [
  {
   "cell_type": "markdown",
   "id": "ea77f464",
   "metadata": {},
   "source": [
    "Q.  다음과 같은 두 링크드 리스트를 입력받았을 때, 합산한 값을 반환하시오. \n",
    "\n",
    "예를 들어 아래와 같은 링크드 리스트를 입력받았다면,\n",
    "각각 678, 354 이므로 두개의 총합\n",
    "678 + 354 = 1032 를 반환해야 한다.\n",
    "\n",
    "단, 각 노드의 데이터는 한자리 수 숫자만 들어갈 수 있다."
   ]
  },
  {
   "cell_type": "code",
   "execution_count": 15,
   "id": "d04a4bb8",
   "metadata": {},
   "outputs": [],
   "source": [
    "class Node:\n",
    "    def __init__(self, data):\n",
    "        self.data = data\n",
    "        self.next = None\n",
    "\n",
    "\n",
    "class LinkedList:\n",
    "    def __init__(self, value):\n",
    "        self.head = Node(value)\n",
    "\n",
    "    def append(self, value):\n",
    "        cur = self.head\n",
    "        while cur.next is not None:\n",
    "            cur = cur.next\n",
    "        cur.next = Node(value)\n",
    "\n",
    "    # 구현해보세요!\n",
    "def make_numbers(linked_list):\n",
    "    num_list = []\n",
    "    cur = linked_list.head\n",
    "    num = 0\n",
    "    while cur is not None:\n",
    "        num_list.append(cur.data)           \n",
    "        cur = cur.next\n",
    "    cnt = len(num_list) - 1\n",
    "    \n",
    "    for number in num_list:\n",
    "        num += number*(10**cnt)\n",
    "        cnt -= 1\n",
    "    return num\n",
    "\n",
    "def get_linked_list_sum(linked_list_1, linked_list_2):\n",
    "    return make_numbers(linked_list_1)+make_numbers(linked_list_2)\n",
    "\n"
   ]
  },
  {
   "cell_type": "code",
   "execution_count": 16,
   "id": "961533ae",
   "metadata": {},
   "outputs": [
    {
     "name": "stdout",
     "output_type": "stream",
     "text": [
      "1032\n"
     ]
    }
   ],
   "source": [
    "linked_list_1 = LinkedList(6)\n",
    "linked_list_1.append(7)\n",
    "linked_list_1.append(8)\n",
    "\n",
    "linked_list_2 = LinkedList(3)\n",
    "linked_list_2.append(5)\n",
    "linked_list_2.append(4)\n",
    "\n",
    "print(get_linked_list_sum(linked_list_1, linked_list_2))"
   ]
  }
 ],
 "metadata": {
  "kernelspec": {
   "display_name": "study",
   "language": "python",
   "name": "python3"
  },
  "language_info": {
   "codemirror_mode": {
    "name": "ipython",
    "version": 3
   },
   "file_extension": ".py",
   "mimetype": "text/x-python",
   "name": "python",
   "nbconvert_exporter": "python",
   "pygments_lexer": "ipython3",
   "version": "3.11.13"
  }
 },
 "nbformat": 4,
 "nbformat_minor": 5
}
